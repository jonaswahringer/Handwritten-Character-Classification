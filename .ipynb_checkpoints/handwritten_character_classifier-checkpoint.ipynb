{
 "cells": [
  {
   "cell_type": "code",
   "execution_count": 1,
   "id": "smart-harvard",
   "metadata": {},
   "outputs": [],
   "source": [
    "import numpy as np\n",
    "import pandas as pd\n",
    "import matplotlib.pyplot as plt\n",
    "import seaborn as sns"
   ]
  },
  {
   "cell_type": "code",
   "execution_count": 2,
   "id": "colored-democracy",
   "metadata": {
    "scrolled": false
   },
   "outputs": [],
   "source": [
    "#load dataset\n",
    "data = np.array(pd.read_csv('../../datasets/A_Z Handwritten Data/A_Z Handwritten Data.csv'))"
   ]
  },
  {
   "cell_type": "code",
   "execution_count": 3,
   "id": "verbal-madison",
   "metadata": {},
   "outputs": [],
   "source": [
    "#get X and y\n",
    "X, y = data[:, 1:], data[:, 0]"
   ]
  },
  {
   "cell_type": "code",
   "execution_count": 4,
   "id": "convinced-detective",
   "metadata": {},
   "outputs": [],
   "source": [
    "#train test split\n",
    "from sklearn.model_selection import train_test_split\n",
    "X_train, X_test, y_train, y_test = train_test_split(X, y, test_size=0.2, random_state=42)"
   ]
  },
  {
   "cell_type": "code",
   "execution_count": 5,
   "id": "decreased-louis",
   "metadata": {},
   "outputs": [
    {
     "name": "stdout",
     "output_type": "stream",
     "text": [
      "(372450, 784)\n",
      "(372450,)\n"
     ]
    }
   ],
   "source": [
    "print(X.shape)\n",
    "print(y.shape)"
   ]
  },
  {
   "cell_type": "code",
   "execution_count": 6,
   "id": "tired-attraction",
   "metadata": {},
   "outputs": [],
   "source": [
    "#image transformer\n",
    "from sklearn.base import BaseEstimator, TransformerMixin\n",
    "\n",
    "class ImageTransformer(BaseEstimator, TransformerMixin):\n",
    "    def __init__(self, width=14, height=14,  is_img=False):\n",
    "        self.width = width\n",
    "        self.height = height\n",
    "        self.is_img = is_img\n",
    "    \n",
    "    def fit(self, X, y=None):\n",
    "        return self\n",
    "    \n",
    "    def transform(self, X):\n",
    "        if self.is_img:\n",
    "            images = []\n",
    "            # load the image and convert to grayscale\n",
    "            for img in X:                \n",
    "                \n",
    "                image = img.convert('L').resize((self.width, self.height))\n",
    "                \n",
    "                enhancer = ImageEnhance.Contrast(image)\n",
    "                image = enhancer.enhance(1.0)\n",
    "                \n",
    "                images.append(np.asarray(image).reshape(-1))\n",
    "            return np.array(images)\n",
    "        else:\n",
    "            return X"
   ]
  },
  {
   "cell_type": "code",
   "execution_count": 7,
   "id": "corrected-ethnic",
   "metadata": {},
   "outputs": [
    {
     "name": "stdout",
     "output_type": "stream",
     "text": [
      "dict_keys(['memory', 'steps', 'verbose', 'image_transformer', 'scaler', 'image_transformer__height', 'image_transformer__is_img', 'image_transformer__width', 'scaler__copy', 'scaler__with_mean', 'scaler__with_std'])\n"
     ]
    }
   ],
   "source": [
    "#preprocessing pipeline\n",
    "from sklearn.pipeline import Pipeline\n",
    "from sklearn.preprocessing import StandardScaler\n",
    "\n",
    "pipe = Pipeline([\n",
    "    ('image_transformer', ImageTransformer()),\n",
    "    ('scaler', StandardScaler())\n",
    "])\n",
    "\n",
    "print(pipe.get_params().keys())\n",
    "\n",
    "width, height = 28, 28\n",
    "pipe.set_params(image_transformer__width=width, image_transformer__height=height, image_transformer__is_img=False)\n",
    "X_train_proc = pipe.fit_transform(X_train)\n",
    "X_test = pipe.transform(X_test)"
   ]
  },
  {
   "cell_type": "code",
   "execution_count": 8,
   "id": "fatty-sarah",
   "metadata": {},
   "outputs": [
    {
     "data": {
      "image/png": "[encoded data removed]",
      "text/plain": [
       "<Figure size 432x288 with 1 Axes>"
      ]
     },
     "metadata": {
      "needs_background": "light"
     },
     "output_type": "display_data"
    }
   ],
   "source": [
    "random_letter = X_train_proc[9238]\n",
    "random_letter_image = random_letter.reshape(28, 28)\n",
    "\n",
    "plt.imshow(random_letter_image, cmap=\"binary\")\n",
    "plt.axis(\"off\")\n",
    "plt.show()"
   ]
  },
  {
   "cell_type": "code",
   "execution_count": 9,
   "id": "interested-explorer",
   "metadata": {},
   "outputs": [],
   "source": [
    "#classifier and metrics\n",
    "from sklearn.model_selection import cross_val_score, cross_val_predict \n",
    "from sklearn.metrics import accuracy_score, plot_confusion_matrix\n",
    "\n",
    "from sklearn.linear_model import LogisticRegression\n",
    "from sklearn.neighbors import KNeighborsClassifier\n",
    "from sklearn.svm import SVC\n",
    "from sklearn.ensemble import RandomForestClassifier\n",
    "from sklearn.ensemble import ExtraTreesClassifier\n",
    "\n",
    "log_clf = LogisticRegression(max_iter=1000, n_jobs=-1) #not used in voting classifier\n",
    "knn_clf = KNeighborsClassifier(n_jobs=-1)\n",
    "svm_clf = SVC(probability=True)\n",
    "rnd_clf = RandomForestClassifier(n_jobs=-1)\n",
    "ext_clf = ExtraTreesClassifier(n_jobs=-1)"
   ]
  },
  {
   "cell_type": "code",
   "execution_count": null,
   "id": "saving-summer",
   "metadata": {},
   "outputs": [],
   "source": [
    "#log reg - not used bc of low accuracy in comparison (~80% on 100000 samples)\n",
    "log_clf.fit(X_train_proc[:100000], y_train[:100000])\n",
    "scores = cross_val_score(log_clf, X_train_proc[:100000], y_train[:100000], cv=5)\n",
    "print(\"Cross-Val:\" ,scores.mean())"
   ]
  },
  {
   "cell_type": "code",
   "execution_count": 10,
   "id": "whole-framing",
   "metadata": {},
   "outputs": [
    {
     "name": "stdout",
     "output_type": "stream",
     "text": [
      "Cross-Val: 0.9290799999999999\n"
     ]
    }
   ],
   "source": [
    "#knn\n",
    "knn_clf.fit(X_train_proc[:100000], y_train[:100000])\n",
    "scores = cross_val_score(knn_clf, X_train_proc[:100000], y_train[:100000], cv=5)\n",
    "print(\"Cross-Val:\" ,scores.mean())"
   ]
  },
  {
   "cell_type": "code",
   "execution_count": 11,
   "id": "introductory-status",
   "metadata": {},
   "outputs": [
    {
     "name": "stdout",
     "output_type": "stream",
     "text": [
      "Cross-Val: 0.9538\n"
     ]
    }
   ],
   "source": [
    "#random forest\n",
    "rnd_clf.fit(X_train_proc[:100000], y_train[:100000])\n",
    "scores = cross_val_score(rnd_clf, X_train_proc[:100000], y_train[:100000], cv=5)\n",
    "print(\"Cross-Val:\" ,scores.mean())"
   ]
  },
  {
   "cell_type": "code",
   "execution_count": 12,
   "id": "indonesian-satellite",
   "metadata": {},
   "outputs": [
    {
     "name": "stdout",
     "output_type": "stream",
     "text": [
      "Cross-Val: 0.9629999999999999\n"
     ]
    }
   ],
   "source": [
    "#extra trees\n",
    "ext_clf.fit(X_train_proc[:150000], y_train[:150000])\n",
    "scores = cross_val_score(ext_clf, X_train_proc[:150000], y_train[:150000], cv=5)\n",
    "print(\"Cross-Val:\" ,scores.mean())"
   ]
  },
  {
   "cell_type": "code",
   "execution_count": 13,
   "id": "dangerous-heater",
   "metadata": {},
   "outputs": [
    {
     "name": "stdout",
     "output_type": "stream",
     "text": [
      "Cross-Val: 0.9427600695555992\n"
     ]
    }
   ],
   "source": [
    "#svm\n",
    "svm_clf.fit(X_train_proc[:50000], y_train[:50000])\n",
    "scores = cross_val_score(svm_clf, X_train_proc[:50000], y_train[:50000], cv=3)\n",
    "print(\"Cross-Val:\" ,scores.mean())"
   ]
  },
  {
   "cell_type": "code",
   "execution_count": 17,
   "id": "normal-piano",
   "metadata": {},
   "outputs": [
    {
     "data": {
      "text/plain": [
       "0.9683044703987113"
      ]
     },
     "execution_count": 17,
     "metadata": {},
     "output_type": "execute_result"
    }
   ],
   "source": [
    "#Voting classifier\n",
    "from sklearn.ensemble import VotingClassifier\n",
    "voting_clf = VotingClassifier(\n",
    "    estimators=[('rndf', rnd_clf), ('knn', knn_clf), ('svm', svm_clf), ('erndf', ext_clf)],\n",
    "    voting='soft')\n",
    "voting_clf.fit(X_train_proc[:100000], y_train[:100000])\n",
    "voting_clf.score(X_test[:100000], y_test[:100000])"
   ]
  },
  {
   "cell_type": "code",
   "execution_count": 18,
   "id": "enclosed-answer",
   "metadata": {},
   "outputs": [
    {
     "data": {
      "image/png": "[encoded data removed]",
      "text/plain": [
       "<Figure size 288x288 with 1 Axes>"
      ]
     },
     "metadata": {
      "needs_background": "light"
     },
     "output_type": "display_data"
    }
   ],
   "source": [
    "#ERROR ANALYSIS using confusion matrix\n",
    "from sklearn.model_selection import cross_val_predict\n",
    "from sklearn.metrics import confusion_matrix\n",
    "\n",
    "y_train_pred = cross_val_predict(voting_clf, X_train_proc[:100000], y_train[:100000], cv=3)\n",
    "conf_mx = confusion_matrix(y_train[:100000], y_train_pred)\n",
    "\n",
    "#image representation of the confusion matrix\n",
    "plt.matshow(conf_mx, cmap=plt.cm.gray)\n",
    "plt.show()"
   ]
  },
  {
   "cell_type": "code",
   "execution_count": 19,
   "id": "steady-purple",
   "metadata": {},
   "outputs": [
    {
     "data": {
      "image/png": "[encoded data removed]",
      "text/plain": [
       "<Figure size 288x288 with 1 Axes>"
      ]
     },
     "metadata": {
      "needs_background": "light"
     },
     "output_type": "display_data"
    }
   ],
   "source": [
    "#plot on the error\n",
    "row_sums = conf_mx.sum(axis=1, keepdims=True)\n",
    "norm_conf_mx = conf_mx / row_sums\n",
    "\n",
    "np.fill_diagonal(norm_conf_mx, 0)\n",
    "plt.matshow(norm_conf_mx, cmap=plt.cm.gray)\n",
    "plt.show()"
   ]
  },
  {
   "cell_type": "code",
   "execution_count": 34,
   "id": "concerned-responsibility",
   "metadata": {},
   "outputs": [
    {
     "data": {
      "text/plain": [
       "<AxesSubplot:>"
      ]
     },
     "execution_count": 34,
     "metadata": {},
     "output_type": "execute_result"
    },
    {
     "data": {
      "image/png": "[encoded data removed]",
      "text/plain": [
       "<Figure size 432x288 with 2 Axes>"
      ]
     },
     "metadata": {
      "needs_background": "light"
     },
     "output_type": "display_data"
    }
   ],
   "source": [
    "#seaborn plot\n",
    "sns.heatmap(conf_mx)"
   ]
  },
  {
   "cell_type": "code",
   "execution_count": 30,
   "id": "floating-twins",
   "metadata": {},
   "outputs": [
    {
     "data": {
      "text/plain": [
       "<AxesSubplot:>"
      ]
     },
     "execution_count": 30,
     "metadata": {},
     "output_type": "execute_result"
    },
    {
     "data": {
      "image/png": "[encoded data removed]",
      "text/plain": [
       "<Figure size 432x288 with 2 Axes>"
      ]
     },
     "metadata": {
      "needs_background": "light"
     },
     "output_type": "display_data"
    }
   ],
   "source": [
    "#seaborn plot onn the error\n",
    "row_sums = conf_mx.sum(axis=1, keepdims=True)\n",
    "norm_conf_mx = conf_mx / row_sums\n",
    "\n",
    "np.fill_diagonal(norm_conf_mx, 0)\n",
    "sns.heatmap(norm_conf_mx)"
   ]
  },
  {
   "cell_type": "markdown",
   "id": "aboriginal-ebony",
   "metadata": {},
   "source": [
    "often confuses: \n",
    "- B and S\n",
    "- O and Q\n",
    "- O and D"
   ]
  },
  {
   "cell_type": "code",
   "execution_count": null,
   "id": "optional-column",
   "metadata": {},
   "outputs": [],
   "source": [
    "#image augumentation on flawed classes // adding more flawed classes to training data"
   ]
  },
  {
   "cell_type": "code",
   "execution_count": 182,
   "id": "authorized-subsection",
   "metadata": {},
   "outputs": [
    {
     "name": "stdout",
     "output_type": "stream",
     "text": [
      "[20  2 20 18  0 14 22  1 19 20]\n",
      "[20  2 20 18  0 14 22  1 19 20]\n"
     ]
    },
    {
     "data": {
      "text/plain": [
       "1.0"
      ]
     },
     "execution_count": 182,
     "metadata": {},
     "output_type": "execute_result"
    }
   ],
   "source": [
    "#testing out sole predictions\n",
    "predict_letters = X_test[10:20]\n",
    "actual_letters = y_test[10:20]\n",
    "pred = voting_clf.predict(predict_letters)\n",
    "print(pred)\n",
    "print(actual_letters)\n",
    "voting_clf.score(predict_letters, actual_letters)"
   ]
  },
  {
   "cell_type": "code",
   "execution_count": 183,
   "id": "immune-interstate",
   "metadata": {},
   "outputs": [
    {
     "data": {
      "image/png": "[encoded data removed]",
      "text/plain": [
       "<Figure size 1440x144 with 10 Axes>"
      ]
     },
     "metadata": {
      "needs_background": "light"
     },
     "output_type": "display_data"
    }
   ],
   "source": [
    "#plot letters\n",
    "n=10\n",
    "\n",
    "plt.figure(figsize=(20, 2))\n",
    "\n",
    "for index, predict_letter in enumerate(predict_letters):\n",
    "    plt.subplot(n // 10, 10, index + 1)\n",
    "    plt.imshow(predict_letter.reshape(28, 28), cmap=\"binary\", interpolation=\"bilinear\")\n",
    "    plt.text(10, -15, 'Pred.: '+str(pred[index]),\n",
    "          ha='center', va='center', size=18)\n",
    "    plt.text(10, -5, 'Actual: '+str(actual_letters[index]),\n",
    "      ha='center', va='center', size=18)\n",
    "    plt.axis('off')\n",
    "\n",
    "plt.show()"
   ]
  },
  {
   "cell_type": "markdown",
   "id": "unauthorized-gamma",
   "metadata": {},
   "source": []
  },
  {
   "cell_type": "markdown",
   "id": "important-hungary",
   "metadata": {},
   "source": []
  },
  {
   "cell_type": "markdown",
   "id": "single-batman",
   "metadata": {},
   "source": [
    "optional stuff, not included rn:"
   ]
  },
  {
   "cell_type": "code",
   "execution_count": 172,
   "id": "alpine-rubber",
   "metadata": {},
   "outputs": [
    {
     "ename": "ModuleNotFoundError",
     "evalue": "No module named 'xgboost'",
     "output_type": "error",
     "traceback": [
      "\u001b[0;31m---------------------------------------------------------------------------\u001b[0m",
      "\u001b[0;31mModuleNotFoundError\u001b[0m                       Traceback (most recent call last)",
      "\u001b[0;32m<ipython-input-172-38ad2a813de8>\u001b[0m in \u001b[0;36m<module>\u001b[0;34m\u001b[0m\n\u001b[1;32m      1\u001b[0m \u001b[0;31m#xgboost classifier\u001b[0m\u001b[0;34m\u001b[0m\u001b[0;34m\u001b[0m\u001b[0;34m\u001b[0m\u001b[0m\n\u001b[0;32m----> 2\u001b[0;31m \u001b[0;32mfrom\u001b[0m \u001b[0mxgboost\u001b[0m \u001b[0;32mimport\u001b[0m \u001b[0mXGBClassifier\u001b[0m\u001b[0;34m\u001b[0m\u001b[0;34m\u001b[0m\u001b[0m\n\u001b[0m\u001b[1;32m      3\u001b[0m \u001b[0;34m\u001b[0m\u001b[0m\n\u001b[1;32m      4\u001b[0m \u001b[0mxbg\u001b[0m \u001b[0;34m=\u001b[0m \u001b[0mXGBClassifier\u001b[0m\u001b[0;34m(\u001b[0m\u001b[0;34m)\u001b[0m\u001b[0;34m\u001b[0m\u001b[0;34m\u001b[0m\u001b[0m\n\u001b[1;32m      5\u001b[0m xbg.fit(X_train_proc[:100000], y_train[:100000], \n",
      "\u001b[0;31mModuleNotFoundError\u001b[0m: No module named 'xgboost'"
     ]
    }
   ],
   "source": [
    "#xgboost classifier\n",
    "from xgboost import XGBClassifier\n",
    "\n",
    "xbg = XGBClassifier()\n",
    "xbg.fit(X_train_proc[:100000], y_train[:100000], \n",
    "           eval_set=[(X_test[:100000], y_test[:100000])], early_stopping_rounds=2)\n",
    "y_pred = xbg.predict(X_test[:100000])\n",
    "accuracy_score(y_test[:100000], y_pred)"
   ]
  },
  {
   "cell_type": "code",
   "execution_count": null,
   "id": "colored-grocery",
   "metadata": {},
   "outputs": [],
   "source": []
  }
 ],
 "metadata": {
  "kernelspec": {
   "display_name": "Python 3",
   "language": "python",
   "name": "python3"
  },
  "language_info": {
   "codemirror_mode": {
    "name": "ipython",
    "version": 3
   },
   "file_extension": ".py",
   "mimetype": "text/x-python",
   "name": "python",
   "nbconvert_exporter": "python",
   "pygments_lexer": "ipython3",
   "version": "3.9.1"
  }
 },
 "nbformat": 4,
 "nbformat_minor": 5
}
