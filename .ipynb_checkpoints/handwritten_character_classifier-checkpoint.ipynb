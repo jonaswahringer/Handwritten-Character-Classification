{
 "cells": [
  {
   "cell_type": "code",
   "execution_count": 1,
   "id": "green-lunch",
   "metadata": {},
   "outputs": [],
   "source": [
    "import numpy as np\n",
    "import pandas as pd\n",
    "import matplotlib.pyplot as plt"
   ]
  },
  {
   "cell_type": "code",
   "execution_count": 44,
   "id": "chronic-traveler",
   "metadata": {
    "scrolled": false
   },
   "outputs": [
    {
     "data": {
      "text/html": [
       "<div>\n",
       "<style scoped>\n",
       "    .dataframe tbody tr th:only-of-type {\n",
       "        vertical-align: middle;\n",
       "    }\n",
       "\n",
       "    .dataframe tbody tr th {\n",
       "        vertical-align: top;\n",
       "    }\n",
       "\n",
       "    .dataframe thead th {\n",
       "        text-align: right;\n",
       "    }\n",
       "</style>\n",
       "<table border=\"1\" class=\"dataframe\">\n",
       "  <thead>\n",
       "    <tr style=\"text-align: right;\">\n",
       "      <th></th>\n",
       "      <th>0</th>\n",
       "    </tr>\n",
       "  </thead>\n",
       "  <tbody>\n",
       "    <tr>\n",
       "      <th>1</th>\n",
       "      <td>a</td>\n",
       "    </tr>\n",
       "    <tr>\n",
       "      <th>2</th>\n",
       "      <td>b</td>\n",
       "    </tr>\n",
       "    <tr>\n",
       "      <th>3</th>\n",
       "      <td>c</td>\n",
       "    </tr>\n",
       "    <tr>\n",
       "      <th>4</th>\n",
       "      <td>d</td>\n",
       "    </tr>\n",
       "    <tr>\n",
       "      <th>5</th>\n",
       "      <td>e</td>\n",
       "    </tr>\n",
       "    <tr>\n",
       "      <th>6</th>\n",
       "      <td>f</td>\n",
       "    </tr>\n",
       "    <tr>\n",
       "      <th>7</th>\n",
       "      <td>g</td>\n",
       "    </tr>\n",
       "    <tr>\n",
       "      <th>8</th>\n",
       "      <td>h</td>\n",
       "    </tr>\n",
       "    <tr>\n",
       "      <th>9</th>\n",
       "      <td>i</td>\n",
       "    </tr>\n",
       "    <tr>\n",
       "      <th>10</th>\n",
       "      <td>j</td>\n",
       "    </tr>\n",
       "    <tr>\n",
       "      <th>11</th>\n",
       "      <td>k</td>\n",
       "    </tr>\n",
       "    <tr>\n",
       "      <th>12</th>\n",
       "      <td>l</td>\n",
       "    </tr>\n",
       "    <tr>\n",
       "      <th>13</th>\n",
       "      <td>m</td>\n",
       "    </tr>\n",
       "    <tr>\n",
       "      <th>14</th>\n",
       "      <td>n</td>\n",
       "    </tr>\n",
       "    <tr>\n",
       "      <th>15</th>\n",
       "      <td>o</td>\n",
       "    </tr>\n",
       "    <tr>\n",
       "      <th>16</th>\n",
       "      <td>p</td>\n",
       "    </tr>\n",
       "    <tr>\n",
       "      <th>17</th>\n",
       "      <td>q</td>\n",
       "    </tr>\n",
       "    <tr>\n",
       "      <th>18</th>\n",
       "      <td>r</td>\n",
       "    </tr>\n",
       "    <tr>\n",
       "      <th>19</th>\n",
       "      <td>s</td>\n",
       "    </tr>\n",
       "    <tr>\n",
       "      <th>20</th>\n",
       "      <td>t</td>\n",
       "    </tr>\n",
       "    <tr>\n",
       "      <th>21</th>\n",
       "      <td>u</td>\n",
       "    </tr>\n",
       "    <tr>\n",
       "      <th>22</th>\n",
       "      <td>v</td>\n",
       "    </tr>\n",
       "    <tr>\n",
       "      <th>23</th>\n",
       "      <td>w</td>\n",
       "    </tr>\n",
       "    <tr>\n",
       "      <th>24</th>\n",
       "      <td>x</td>\n",
       "    </tr>\n",
       "    <tr>\n",
       "      <th>25</th>\n",
       "      <td>y</td>\n",
       "    </tr>\n",
       "    <tr>\n",
       "      <th>26</th>\n",
       "      <td>z</td>\n",
       "    </tr>\n",
       "  </tbody>\n",
       "</table>\n",
       "</div>"
      ],
      "text/plain": [
       "    0\n",
       "1   a\n",
       "2   b\n",
       "3   c\n",
       "4   d\n",
       "5   e\n",
       "6   f\n",
       "7   g\n",
       "8   h\n",
       "9   i\n",
       "10  j\n",
       "11  k\n",
       "12  l\n",
       "13  m\n",
       "14  n\n",
       "15  o\n",
       "16  p\n",
       "17  q\n",
       "18  r\n",
       "19  s\n",
       "20  t\n",
       "21  u\n",
       "22  v\n",
       "23  w\n",
       "24  x\n",
       "25  y\n",
       "26  z"
      ]
     },
     "execution_count": 44,
     "metadata": {},
     "output_type": "execute_result"
    }
   ],
   "source": [
    "data = np.array(pd.read_csv('../../datasets/A_Z Handwritten Data/A_Z Handwritten Data.csv'))"
   ]
  },
  {
   "cell_type": "code",
   "execution_count": 46,
   "id": "pharmaceutical-hepatitis",
   "metadata": {},
   "outputs": [],
   "source": [
    "#get X and y\n",
    "X, y = data[:, 1:], data[:, 0]"
   ]
  },
  {
   "cell_type": "code",
   "execution_count": 48,
   "id": "intermediate-queue",
   "metadata": {},
   "outputs": [],
   "source": [
    "#train test split\n",
    "from sklearn.model_selection import train_test_split\n",
    "X_train, X_test, y_train, y_test = train_test_split(X, y, test_size=0.2, random_state=42)"
   ]
  },
  {
   "cell_type": "code",
   "execution_count": 49,
   "id": "configured-nightmare",
   "metadata": {},
   "outputs": [
    {
     "data": {
      "text/plain": [
       "(372450,)"
      ]
     },
     "execution_count": 49,
     "metadata": {},
     "output_type": "execute_result"
    }
   ],
   "source": [
    "print(X.shape)\n",
    "print(y.shape)"
   ]
  },
  {
   "cell_type": "code",
   "execution_count": 50,
   "id": "provincial-clinton",
   "metadata": {},
   "outputs": [],
   "source": [
    "#image transformer\n",
    "from sklearn.base import BaseEstimator, TransformerMixin\n",
    "\n",
    "class ImageTransformer(BaseEstimator, TransformerMixin):\n",
    "    def __init__(self, width=14, height=14,  is_img=False):\n",
    "        self.width = width\n",
    "        self.height = height\n",
    "        self.is_img = is_img\n",
    "    \n",
    "    def fit(self, X, y=None):\n",
    "        return self\n",
    "    \n",
    "    def transform(self, X):\n",
    "        if self.is_img:\n",
    "            images = []\n",
    "            # load the image and convert to grayscale\n",
    "            for img in X:                \n",
    "                \n",
    "                image = img.convert('L').resize((self.width, self.height))\n",
    "                \n",
    "                enhancer = ImageEnhance.Contrast(image)\n",
    "                image = enhancer.enhance(1.0)\n",
    "                \n",
    "                images.append(np.asarray(image).reshape(-1))\n",
    "            return np.array(images)\n",
    "        else:\n",
    "            return X"
   ]
  },
  {
   "cell_type": "code",
   "execution_count": 51,
   "id": "chemical-championship",
   "metadata": {},
   "outputs": [
    {
     "name": "stdout",
     "output_type": "stream",
     "text": [
      "dict_keys(['memory', 'steps', 'verbose', 'image_transformer', 'scaler', 'image_transformer__height', 'image_transformer__is_img', 'image_transformer__width', 'scaler__copy', 'scaler__with_mean', 'scaler__with_std'])\n"
     ]
    }
   ],
   "source": [
    "#pipeline\n",
    "from sklearn.pipeline import Pipeline\n",
    "from sklearn.preprocessing import StandardScaler\n",
    "\n",
    "pipe = Pipeline([\n",
    "    ('image_transformer', ImageTransformer()),\n",
    "    ('scaler', StandardScaler())\n",
    "])\n",
    "\n",
    "print(pipe.get_params().keys())\n",
    "\n",
    "width, height = 28, 28\n",
    "pipe.set_params(image_transformer__width=width, image_transformer__height=height, image_transformer__is_img=False)\n",
    "X_train_proc = pipe.fit_transform(X_train)\n",
    "X_test = pipe.transform(X_test)"
   ]
  },
  {
   "cell_type": "code",
   "execution_count": 53,
   "id": "therapeutic-angola",
   "metadata": {},
   "outputs": [
    {
     "data": {
      "image/png": "[encoded data removed]",
      "text/plain": [
       "<Figure size 432x288 with 1 Axes>"
      ]
     },
     "metadata": {
      "needs_background": "light"
     },
     "output_type": "display_data"
    }
   ],
   "source": [
    "random_letter = X_train_proc[9238]\n",
    "random_letter_image = random_letter.reshape(28, 28)\n",
    "\n",
    "plt.imshow(random_letter_image, cmap=\"binary\")\n",
    "plt.axis(\"off\")\n",
    "plt.show()"
   ]
  },
  {
   "cell_type": "code",
   "execution_count": 66,
   "id": "close-navigator",
   "metadata": {},
   "outputs": [],
   "source": [
    "#classifier and metrics\n",
    "from sklearn.model_selection import cross_val_score, cross_val_predict \n",
    "from sklearn.metrics import accuracy_score, plot_confusion_matrix\n",
    "\n",
    "from sklearn.linear_model import LogisticRegression\n",
    "from sklearn.neighbors import KNeighborsClassifier\n",
    "from sklearn.svm import SVC\n",
    "from sklearn.ensemble import RandomForestClassifier\n",
    "from sklearn.ensemble import ExtraTreesClassifier\n",
    "\n",
    "log_clf = LogisticRegression(max_iter=1000, n_jobs=-1)\n",
    "knn_clf = KNeighborsClassifier(n_jobs=-1)\n",
    "svm_clf = SVC(probability=True)\n",
    "rnd_clf = RandomForestClassifier(n_jobs=-1)\n",
    "ext_clf = ExtraTreesClassifier(n_jobs=-1)"
   ]
  },
  {
   "cell_type": "code",
   "execution_count": 59,
   "id": "flush-velvet",
   "metadata": {},
   "outputs": [
    {
     "data": {
      "text/plain": [
       "0.8024000000000001"
      ]
     },
     "execution_count": 59,
     "metadata": {},
     "output_type": "execute_result"
    }
   ],
   "source": [
    "scores = cross_val_score(log_clf, X_train_proc[:5000], y_train[:5000], cv=5)\n",
    "scores.mean()"
   ]
  },
  {
   "cell_type": "code",
   "execution_count": 60,
   "id": "continuous-locator",
   "metadata": {},
   "outputs": [
    {
     "data": {
      "text/plain": [
       "0.833"
      ]
     },
     "execution_count": 60,
     "metadata": {},
     "output_type": "execute_result"
    }
   ],
   "source": [
    "scores = cross_val_score(knn_clf, X_train_proc[:5000], y_train[:5000], cv=5)\n",
    "scores.mean()"
   ]
  },
  {
   "cell_type": "code",
   "execution_count": 61,
   "id": "prepared-repair",
   "metadata": {},
   "outputs": [
    {
     "data": {
      "text/plain": [
       "0.8948"
      ]
     },
     "execution_count": 61,
     "metadata": {},
     "output_type": "execute_result"
    }
   ],
   "source": [
    "scores = cross_val_score(svm_clf, X_train_proc[:5000], y_train[:5000], cv=5)\n",
    "scores.mean()"
   ]
  },
  {
   "cell_type": "code",
   "execution_count": 62,
   "id": "cultural-annual",
   "metadata": {},
   "outputs": [
    {
     "data": {
      "text/plain": [
       "0.8635999999999999"
      ]
     },
     "execution_count": 62,
     "metadata": {},
     "output_type": "execute_result"
    }
   ],
   "source": [
    "scores = cross_val_score(rnd_clf, X_train_proc[:5000], y_train[:5000], cv=5)\n",
    "scores.mean()"
   ]
  },
  {
   "cell_type": "code",
   "execution_count": 63,
   "id": "contemporary-testing",
   "metadata": {},
   "outputs": [
    {
     "data": {
      "text/plain": [
       "0.8686"
      ]
     },
     "execution_count": 63,
     "metadata": {},
     "output_type": "execute_result"
    }
   ],
   "source": [
    "scores = cross_val_score(ext_clf, X_train_proc[:5000], y_train[:5000], cv=5)\n",
    "scores.mean()"
   ]
  },
  {
   "cell_type": "code",
   "execution_count": 70,
   "id": "featured-sessions",
   "metadata": {},
   "outputs": [
    {
     "data": {
      "text/plain": [
       "0.7906"
      ]
     },
     "execution_count": 70,
     "metadata": {},
     "output_type": "execute_result"
    }
   ],
   "source": [
    "#log reg\n",
    "log_clf.fit(X_train_proc[:5000], y_train[:5000])\n",
    "y_pred_log = log_clf.predict(X_test[:5000])\n",
    "accuracy_score(y_test[:5000], y_pred_log)"
   ]
  },
  {
   "cell_type": "code",
   "execution_count": 71,
   "id": "hundred-union",
   "metadata": {},
   "outputs": [
    {
     "data": {
      "text/plain": [
       "0.8346"
      ]
     },
     "execution_count": 71,
     "metadata": {},
     "output_type": "execute_result"
    }
   ],
   "source": [
    "#knn\n",
    "knn_clf.fit(X_train_proc[:5000], y_train[:5000])\n",
    "y_pred_knn = knn_clf.predict(X_test[:5000])\n",
    "accuracy_score(y_test[:5000], y_pred_knn)"
   ]
  },
  {
   "cell_type": "code",
   "execution_count": 73,
   "id": "external-retirement",
   "metadata": {},
   "outputs": [
    {
     "data": {
      "text/plain": [
       "0.8636"
      ]
     },
     "execution_count": 73,
     "metadata": {},
     "output_type": "execute_result"
    }
   ],
   "source": [
    "#random forest\n",
    "rnd_clf.fit(X_train_proc[:5000], y_train[:5000])\n",
    "y_pred_rf = rnd_clf.predict(X_test[:5000])\n",
    "accuracy_score(y_test[:5000], y_pred_rf)"
   ]
  },
  {
   "cell_type": "code",
   "execution_count": 76,
   "id": "competent-toddler",
   "metadata": {},
   "outputs": [
    {
     "data": {
      "text/plain": [
       "0.871"
      ]
     },
     "execution_count": 76,
     "metadata": {},
     "output_type": "execute_result"
    }
   ],
   "source": [
    "#extra trees\n",
    "ext_clf.fit(X_train_proc[:5000], y_train[:5000])\n",
    "y_pred_erf = ext_clf.predict(X_test[:5000])\n",
    "accuracy_score(y_test[:5000], y_pred_erf)"
   ]
  },
  {
   "cell_type": "code",
   "execution_count": null,
   "id": "surface-sheep",
   "metadata": {},
   "outputs": [
    {
     "name": "stdout",
     "output_type": "stream",
     "text": [
      "0.8956\n",
      "Fitting 3 folds for each of 12 candidates, totalling 36 fits\n",
      "[CV 1/3] END ..................C=1, gamma=0.001, kernel=poly; total time=  18.6s\n",
      "[CV 2/3] END ..................C=1, gamma=0.001, kernel=poly; total time=  18.8s\n",
      "[CV 3/3] END ..................C=1, gamma=0.001, kernel=poly; total time=  18.9s\n",
      "[CV 1/3] END ...................C=1, gamma=0.001, kernel=rbf; total time= 2.3min\n",
      "[CV 2/3] END ...................C=1, gamma=0.001, kernel=rbf; total time= 2.3min\n",
      "[CV 3/3] END ...................C=1, gamma=0.001, kernel=rbf; total time= 2.3min\n",
      "[CV 1/3] END .................C=1, gamma=0.0001, kernel=poly; total time=  19.3s\n",
      "[CV 2/3] END .................C=1, gamma=0.0001, kernel=poly; total time=  19.0s\n",
      "[CV 3/3] END .................C=1, gamma=0.0001, kernel=poly; total time=  19.9s\n",
      "[CV 1/3] END ..................C=1, gamma=0.0001, kernel=rbf; total time= 2.4min\n",
      "[CV 2/3] END ..................C=1, gamma=0.0001, kernel=rbf; total time= 2.3min\n",
      "[CV 3/3] END ..................C=1, gamma=0.0001, kernel=rbf; total time= 2.4min\n",
      "[CV 1/3] END .................C=10, gamma=0.001, kernel=poly; total time=  18.9s\n",
      "[CV 2/3] END .................C=10, gamma=0.001, kernel=poly; total time=  18.9s\n",
      "[CV 3/3] END .................C=10, gamma=0.001, kernel=poly; total time=  19.6s\n",
      "[CV 1/3] END ..................C=10, gamma=0.001, kernel=rbf; total time= 2.2min\n",
      "[CV 2/3] END ..................C=10, gamma=0.001, kernel=rbf; total time= 2.2min\n",
      "[CV 3/3] END ..................C=10, gamma=0.001, kernel=rbf; total time= 2.3min\n",
      "[CV 1/3] END ................C=10, gamma=0.0001, kernel=poly; total time=  18.9s\n",
      "[CV 2/3] END ................C=10, gamma=0.0001, kernel=poly; total time=  19.2s\n",
      "[CV 3/3] END ................C=10, gamma=0.0001, kernel=poly; total time=  19.5s\n",
      "[CV 1/3] END .................C=10, gamma=0.0001, kernel=rbf; total time= 2.4min\n",
      "[CV 2/3] END .................C=10, gamma=0.0001, kernel=rbf; total time= 2.4min\n",
      "[CV 3/3] END .................C=10, gamma=0.0001, kernel=rbf; total time= 2.4min\n",
      "[CV 1/3] END ................C=300, gamma=0.001, kernel=poly; total time=  19.1s\n",
      "[CV 2/3] END ................C=300, gamma=0.001, kernel=poly; total time=  18.9s\n",
      "[CV 3/3] END ................C=300, gamma=0.001, kernel=poly; total time=  19.0s\n",
      "[CV 1/3] END .................C=300, gamma=0.001, kernel=rbf; total time= 2.3min\n",
      "[CV 2/3] END .................C=300, gamma=0.001, kernel=rbf; total time= 2.2min\n",
      "[CV 3/3] END .................C=300, gamma=0.001, kernel=rbf; total time= 2.4min\n",
      "[CV 1/3] END ...............C=300, gamma=0.0001, kernel=poly; total time=  19.8s\n",
      "[CV 2/3] END ...............C=300, gamma=0.0001, kernel=poly; total time=  19.3s\n",
      "[CV 3/3] END ...............C=300, gamma=0.0001, kernel=poly; total time=  20.4s\n",
      "[CV 1/3] END ................C=300, gamma=0.0001, kernel=rbf; total time= 2.5min\n",
      "[CV 2/3] END ................C=300, gamma=0.0001, kernel=rbf; total time= 2.4min\n",
      "[CV 3/3] END ................C=300, gamma=0.0001, kernel=rbf; total time= 2.6min\n"
     ]
    }
   ],
   "source": [
    "#svm\n",
    "from sklearn.model_selection import GridSearchCV\n",
    "\n",
    "svm_clf.fit(X_train_proc[:5000], y_train[:5000])\n",
    "y_pred_rbf = svm_clf.predict(X_test[:5000])\n",
    "print(accuracy_score(y_test[:5000], y_pred_rbf))\n",
    "\n",
    "param_grid = [\n",
    "    {'C': [1, 10, 300], 'gamma': [0.001, 0.0001], 'kernel': ['poly', 'rbf']},\n",
    "]\n",
    "\n",
    "grid_search_cv = GridSearchCV(svm_clf, param_grid, verbose=3, n_jobs=1, cv=3)\n",
    "grid_search_cv.fit(X_train[:10000], y_train[:10000])\n",
    "\n",
    "svc = grid_search_cv.best_estimator_\n",
    "svc.fit(X_train_proc, y_train)\n",
    "final_pred = final_svc.predict(X_test)\n",
    "print(accuracy_score(y_test, final_pred))"
   ]
  },
  {
   "cell_type": "code",
   "execution_count": null,
   "id": "wicked-actress",
   "metadata": {},
   "outputs": [],
   "source": [
    "#Voting classifier\n",
    "from sklearn.ensemble import VotingClassifier\n",
    "voting_clf = VotingClassifier(\n",
    "    estimators=[('rndf', rnd_clf), ('knn', knn_clf), ('lr', log_clf), ('svc', svc), ('erndf', ext_clf)],\n",
    "    voting='soft')\n",
    "voting_clf.fit(X_train_proc, y_train)\n",
    "voting_clf.score(X_test, y_test)"
   ]
  },
  {
   "cell_type": "code",
   "execution_count": null,
   "id": "published-deviation",
   "metadata": {},
   "outputs": [],
   "source": [
    "#xgboost classifier\n",
    "import xgboost\n",
    "\n",
    "xbg = xgboost.XGBClassifier()\n",
    "xbg_reg.fit(X_train_proc, y_train, \n",
    "           eval_set=[(X_test, y_test)], early_stopping_rounds=2)\n",
    "y_pred = xbg.predict(X_test)\n",
    "accuracy_score(y_test, y_pred)"
   ]
  },
  {
   "cell_type": "code",
   "execution_count": null,
   "id": "organized-auditor",
   "metadata": {},
   "outputs": [],
   "source": [
    "#confusion matrix for errors"
   ]
  },
  {
   "cell_type": "code",
   "execution_count": null,
   "id": "vital-target",
   "metadata": {},
   "outputs": [],
   "source": [
    "#image augumentation on flawed classes "
   ]
  }
 ],
 "metadata": {
  "kernelspec": {
   "display_name": "Python 3",
   "language": "python",
   "name": "python3"
  },
  "language_info": {
   "codemirror_mode": {
    "name": "ipython",
    "version": 3
   },
   "file_extension": ".py",
   "mimetype": "text/x-python",
   "name": "python",
   "nbconvert_exporter": "python",
   "pygments_lexer": "ipython3",
   "version": "3.9.1"
  }
 },
 "nbformat": 4,
 "nbformat_minor": 5
}
